{
 "cells": [
  {
   "cell_type": "code",
   "execution_count": null,
   "metadata": {
    "collapsed": true
   },
   "outputs": [],
   "source": [
    "import os, cv2, random\n",
    "import numpy as np\n",
    "import pandas as pd\n",
    "\n",
    "import matplotlib.pyplot as plt\n",
    "from matplotlib import ticker\n",
    "import seaborn as sns\n",
    "%matplotlib inline \n",
    "\n",
    "from keras.models import Sequential\n",
    "from keras.layers import Input, Dropout, Flatten, Convolution2D, MaxPooling2D, Dense, Activation\n",
    "from keras.optimizers import RMSprop\n",
    "from keras.callbacks import ModelCheckpoint, Callback, EarlyStopping\n",
    "from keras.utils import np_utils"
   ]
  },
  {
   "cell_type": "markdown",
   "metadata": {},
   "source": [
    "# prepare data"
   ]
  },
  {
   "cell_type": "code",
   "execution_count": null,
   "metadata": {},
   "outputs": [],
   "source": [
    "train_dir = \"F:\\\\kag\\\\CatAndDog\\\\train\\\\\"\n",
    "test_dir = \"F:\\\\kag\\\\CatAndDog\\\\test\\\\\"\n",
    "\n",
    "row = 64\n",
    "col = 64\n",
    "channels = 3\n",
    "\n",
    "train_image = [train_dir+i for i in os.listdir(train_dir)]\n",
    "train_dog = [train_dir+i for i in os.listdir(train_dir) if 'dog' in i]\n",
    "train_cat = [train_dir+i for i in os.listdir(train_dir) if 'cat' in i]\n",
    "\n",
    "test_image = [test_dir+i for i in os.listdir(test_dir)]\n",
    "\n",
    "\n",
    "# train_image = train_dog[:1000]+train_cat[0:1000]\n",
    "random.shuffle(train_image)\n",
    "# test_image = test_image[0:25]\n",
    "\n",
    "\n",
    "def read_image(file_path):\n",
    "    img = cv2.imread(file_path,cv2.IMREAD_COLOR)\n",
    "    return cv2.resize(img,(row,col),interpolation=cv2.INTER_CUBIC)\n",
    "    #return cv2.resize(img,(row,col))\n",
    "\n",
    "def prep_data(images):\n",
    "    count = len(images)\n",
    "    data = np.ndarray((count,row,col,channels))\n",
    "    \n",
    "    \n",
    "    for i,image_file in enumerate(images):\n",
    "        image = read_image(image_file)\n",
    "        data[i]=image\n",
    "        if i%250 == 0 and i!=0:\n",
    "            print(\"processed {} of {}\".format(i,count))\n",
    "            \n",
    "    return data\n",
    "\n",
    "train = prep_data(train_image)\n",
    "test = prep_data(test_image)\n",
    "\n",
    "print(\"Train shape:{}\".format(train.shape))\n",
    "print(\"Test shape:{}\".format(test.shape))\n"
   ]
  },
  {
   "cell_type": "code",
   "execution_count": null,
   "metadata": {},
   "outputs": [],
   "source": [
    "labels = []\n",
    "for i in train_image:\n",
    "    if 'dog' in i:\n",
    "        labels.append(1)\n",
    "    else:\n",
    "        labels.append(0)\n",
    "sns.countplot(labels)\n",
    "plt.title('cats and dogs')"
   ]
  },
  {
   "cell_type": "code",
   "execution_count": null,
   "metadata": {},
   "outputs": [],
   "source": [
    "def show_cats_and_dogs(idx):\n",
    "    cat = read_image(train_cat[idx])\n",
    "    dog = read_image(train_dog[idx])\n",
    "    pair = np.concatenate((cat,dog),axis=1)\n",
    "    plt.figure(figsize=(10,5))\n",
    "    plt.imshow(pair)\n",
    "    plt.show()\n",
    "for i in range(5):\n",
    "    show_cats_and_dogs(i)"
   ]
  },
  {
   "cell_type": "code",
   "execution_count": null,
   "metadata": {},
   "outputs": [],
   "source": [
    "from sklearn.model_selection import train_test_split\n",
    "random_seed = 2\n",
    "X_train,X_val,Y_train,Y_val = train_test_split(train,labels,test_size = 0.1,random_state = random_seed)\n",
    "print(X_train.shape,X_val.shape)"
   ]
  },
  {
   "cell_type": "code",
   "execution_count": 7,
   "metadata": {
    "collapsed": true
   },
   "outputs": [],
   "source": [
    "from keras.models import Sequential\n",
    "from keras.layers import Dense, Dropout, Flatten, Conv2D, MaxPool2D\n",
    "from keras.optimizers import RMSprop\n",
    "def catdog():\n",
    "    model = Sequential()\n",
    "    model.add(Conv2D(filters=32,kernel_size=(3,3),padding='same',\n",
    "                 activation='relu',input_shape=(row,col,channels)))\n",
    "    model.add(Conv2D(filters=32,kernel_size=(3,3),padding='same',\n",
    "                 activation='relu'))\n",
    "    model.add(MaxPool2D(pool_size=(2,2)))\n",
    "    \n",
    "    \n",
    "    model.add(Conv2D(filters=64,kernel_size=(3,3),padding='same',\n",
    "                activation='relu'))\n",
    "    model.add(Conv2D(filters=64,kernel_size=(3,3),padding='same',\n",
    "                activation='relu'))\n",
    "    model.add(MaxPool2D(pool_size=(2,2)))\n",
    "    \n",
    "#     model.add(Conv2D(filters=128,kernel_size=(3,3),padding='same',\n",
    "#                 activation='relu'))\n",
    "#     model.add(Conv2D(filters=128,kernel_size=(3,3),padding='same',\n",
    "#                 activation='relu'))\n",
    "#     model.add(MaxPool2D(pool_size=(2,2)))\n",
    "    \n",
    "#     model.add(Conv2D(filters=256,kernel_size=(3,3),padding='same',\n",
    "#                 activation='relu'))\n",
    "#     model.add(Conv2D(filters=256,kernel_size=(3,3),padding='same',\n",
    "#                 activation='relu'))\n",
    "#     model.add(MaxPool2D(pool_size=(2,2)))\n",
    "    \n",
    "    model.add(Flatten())\n",
    "    model.add(Dense(256,activation='relu'))\n",
    "    model.add(Dropout(0.5))\n",
    "    model.add(Dense(256,activation='relu'))\n",
    "    model.add(Dropout(0.5))\n",
    "    model.add(Dense(1,activation='sigmoid'))\n",
    "    optimizer = RMSprop(lr=0.001,rho=0.9,epsilon=1e-08,decay=0.0)\n",
    "    model.compile(optimizer=optimizer,loss=\"binary_crossentropy\",metrics=[\"accuracy\"])\n",
    "    return model\n",
    "model =catdog()"
   ]
  },
  {
   "cell_type": "code",
   "execution_count": 8,
   "metadata": {},
   "outputs": [
    {
     "name": "stdout",
     "output_type": "stream",
     "text": [
      "<class 'numpy.ndarray'> <class 'list'>\n",
      "Train on 1800 samples, validate on 200 samples\n",
      "Epoch 1/2\n",
      "1800/1800 [==============================] - 656s - loss: 7.8946 - acc: 0.5044 - val_loss: 8.4495 - val_acc: 0.4700\n",
      "Epoch 2/2\n",
      "1800/1800 [==============================] - 696s - loss: 7.9181 - acc: 0.5033 - val_loss: 8.4495 - val_acc: 0.4700\n"
     ]
    }
   ],
   "source": [
    "from keras.callbacks import ReduceLROnPlateau\n",
    "learning_rate_reduction = ReduceLROnPlateau(monitor='val_acc', \n",
    "                                            patience=3, \n",
    "                                            verbose=1, \n",
    "                                            factor=0.5, \n",
    "                                            min_lr=0.00001)\n",
    "epochs = 2\n",
    "batch_size = 16\n",
    "\n",
    "print(type(train),type(labels))\n",
    "history = model.fit(X_train, Y_train, batch_size=batch_size, epochs=epochs,\n",
    "             validation_data=(X_val,Y_val), \n",
    "          verbose=1, \n",
    "          shuffle=True, \n",
    "          callbacks=[learning_rate_reduction])\n",
    "    \n"
   ]
  },
  {
   "cell_type": "code",
   "execution_count": 66,
   "metadata": {},
   "outputs": [
    {
     "data": {
      "image/png": "[encoded data removed]",
      "text/plain": [
       "<matplotlib.figure.Figure at 0x17a943155f8>"
      ]
     },
     "metadata": {},
     "output_type": "display_data"
    }
   ],
   "source": [
    "fig, ax = plt.subplots(2,1)\n",
    "ax[0].plot(history.history['loss'], color='b', label=\"Training loss\")\n",
    "ax[0].plot(history.history['val_loss'], color='r', label=\"validation loss\",axes =ax[0])\n",
    "legend = ax[0].legend(loc='best', shadow=True)\n",
    "\n",
    "ax[1].plot(history.history['acc'], color='b', label=\"Training accuracy\")\n",
    "ax[1].plot(history.history['val_acc'], color='r',label=\"Validation accuracy\")\n",
    "legend = ax[1].legend(loc='best', shadow=True)"
   ]
  },
  {
   "cell_type": "code",
   "execution_count": null,
   "metadata": {
    "collapsed": true
   },
   "outputs": [],
   "source": []
  }
 ],
 "metadata": {
  "kernelspec": {
   "display_name": "Python 3",
   "language": "python",
   "name": "python3"
  },
  "language_info": {
   "codemirror_mode": {
    "name": "ipython",
    "version": 3
   },
   "file_extension": ".py",
   "mimetype": "text/x-python",
   "name": "python",
   "nbconvert_exporter": "python",
   "pygments_lexer": "ipython3",
   "version": "3.5.4"
  }
 },
 "nbformat": 4,
 "nbformat_minor": 2
}
